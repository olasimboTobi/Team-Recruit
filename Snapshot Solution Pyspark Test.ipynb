{
 "cells": [
  {
   "cell_type": "markdown",
   "id": "30104dfe",
   "metadata": {},
   "source": [
    "### SnapShot PySpark Test"
   ]
  },
  {
   "cell_type": "code",
   "execution_count": 1,
   "id": "05990867",
   "metadata": {},
   "outputs": [
    {
     "name": "stderr",
     "output_type": "stream",
     "text": [
      "Setting default log level to \"WARN\".\n",
      "To adjust logging level use sc.setLogLevel(newLevel). For SparkR, use setLogLevel(newLevel).\n",
      "23/07/04 14:11:21 WARN NativeCodeLoader: Unable to load native-hadoop library for your platform... using builtin-java classes where applicable\n"
     ]
    }
   ],
   "source": [
    "from pyspark.sql import SparkSession\n",
    "from pyspark.sql.functions import first, col, split, when\n",
    "\n",
    "# Create a SparkSession\n",
    "spark = SparkSession.builder.getOrCreate()"
   ]
  },
  {
   "cell_type": "code",
   "execution_count": 2,
   "id": "5653d46b",
   "metadata": {},
   "outputs": [
    {
     "name": "stderr",
     "output_type": "stream",
     "text": [
      "                                                                                \r"
     ]
    }
   ],
   "source": [
    "# Read the text file into a DataFrame\n",
    "file_path = 'textfile.txt'\n",
    "df = spark.read.csv(file_path, header=True, inferSchema=True)"
   ]
  },
  {
   "cell_type": "code",
   "execution_count": 3,
   "id": "8233f856",
   "metadata": {},
   "outputs": [
    {
     "name": "stdout",
     "output_type": "stream",
     "text": [
      "+--------------------------------------------------------------------------------------------------------------------------------------+\n",
      "|\\fREPORT ID:  VSS-110                                         VISANET SETTLEMENT SERVICE                        PAGE:              1  |\n",
      "+--------------------------------------------------------------------------------------------------------------------------------------+\n",
      "|                                                                                                                   REPORTING FOR:  ...|\n",
      "|                                                                                                                   ROLLUP TO:      ...|\n",
      "|                                                                                                                   FUNDS XFER ENTIT...|\n",
      "|                                                                                                                   SETTLEMENT CURRE...|\n",
      "|                                                                                                                                   ...|\n",
      "|                                                                                                                                   ...|\n",
      "|                                                                                                                   INTERCHANGE VALU...|\n",
      "|                                                                                                                      TOTAL ACQUIRE...|\n",
      "|                                                                                                                      TOTAL ISSUER ...|\n",
      "|                                                                                                                      TOTAL OTHER  ...|\n",
      "|                                                                                                                      TOTAL INTERCH...|\n",
      "|                                                                                                                   REIMBURSEMENT FE...|\n",
      "|                                                                                                                      TOTAL ACQUIRE...|\n",
      "|                                                                                                                      TOTAL ISSUER ...|\n",
      "|                                                                                                                      TOTAL OTHER  ...|\n",
      "|                                                                                                                      TOTAL REIMBUR...|\n",
      "|                                                                                                                   VISA CHARGES    ...|\n",
      "|                                                                                                                      TOTAL ACQUIRE...|\n",
      "|                                                                                                                      TOTAL ISSUER ...|\n",
      "|                                                                                                                      TOTAL OTHER  ...|\n",
      "+--------------------------------------------------------------------------------------------------------------------------------------+\n",
      "only showing top 20 rows\n",
      "\n"
     ]
    }
   ],
   "source": [
    "df.show()"
   ]
  },
  {
   "cell_type": "code",
   "execution_count": 4,
   "id": "1fcf0250",
   "metadata": {},
   "outputs": [
    {
     "ename": "AttributeError",
     "evalue": "'DataFrame' object has no attribute 'value'",
     "output_type": "error",
     "traceback": [
      "\u001b[0;31m---------------------------------------------------------------------------\u001b[0m",
      "\u001b[0;31mAttributeError\u001b[0m                            Traceback (most recent call last)",
      "Cell \u001b[0;32mIn[4], line 2\u001b[0m\n\u001b[1;32m      1\u001b[0m \u001b[38;5;66;03m# Split the lines using whitespace as the delimiter\u001b[39;00m\n\u001b[0;32m----> 2\u001b[0m df \u001b[38;5;241m=\u001b[39m df\u001b[38;5;241m.\u001b[39mwithColumn(\u001b[38;5;124m\"\u001b[39m\u001b[38;5;124mcolumns\u001b[39m\u001b[38;5;124m\"\u001b[39m, split(\u001b[43mdf\u001b[49m\u001b[38;5;241;43m.\u001b[39;49m\u001b[43mvalue\u001b[49m, \u001b[38;5;124m\"\u001b[39m\u001b[38;5;124m\\\u001b[39m\u001b[38;5;124ms+\u001b[39m\u001b[38;5;124m\"\u001b[39m))\n",
      "File \u001b[0;32m~/anaconda3/lib/python3.10/site-packages/pyspark/sql/dataframe.py:2977\u001b[0m, in \u001b[0;36mDataFrame.__getattr__\u001b[0;34m(self, name)\u001b[0m\n\u001b[1;32m   2944\u001b[0m \u001b[38;5;124;03m\"\"\"Returns the :class:`Column` denoted by ``name``.\u001b[39;00m\n\u001b[1;32m   2945\u001b[0m \n\u001b[1;32m   2946\u001b[0m \u001b[38;5;124;03m.. versionadded:: 1.3.0\u001b[39;00m\n\u001b[0;32m   (...)\u001b[0m\n\u001b[1;32m   2974\u001b[0m \u001b[38;5;124;03m+---+\u001b[39;00m\n\u001b[1;32m   2975\u001b[0m \u001b[38;5;124;03m\"\"\"\u001b[39;00m\n\u001b[1;32m   2976\u001b[0m \u001b[38;5;28;01mif\u001b[39;00m name \u001b[38;5;129;01mnot\u001b[39;00m \u001b[38;5;129;01min\u001b[39;00m \u001b[38;5;28mself\u001b[39m\u001b[38;5;241m.\u001b[39mcolumns:\n\u001b[0;32m-> 2977\u001b[0m     \u001b[38;5;28;01mraise\u001b[39;00m \u001b[38;5;167;01mAttributeError\u001b[39;00m(\n\u001b[1;32m   2978\u001b[0m         \u001b[38;5;124m\"\u001b[39m\u001b[38;5;124m'\u001b[39m\u001b[38;5;132;01m%s\u001b[39;00m\u001b[38;5;124m'\u001b[39m\u001b[38;5;124m object has no attribute \u001b[39m\u001b[38;5;124m'\u001b[39m\u001b[38;5;132;01m%s\u001b[39;00m\u001b[38;5;124m'\u001b[39m\u001b[38;5;124m\"\u001b[39m \u001b[38;5;241m%\u001b[39m (\u001b[38;5;28mself\u001b[39m\u001b[38;5;241m.\u001b[39m\u001b[38;5;18m__class__\u001b[39m\u001b[38;5;241m.\u001b[39m\u001b[38;5;18m__name__\u001b[39m, name)\n\u001b[1;32m   2979\u001b[0m     )\n\u001b[1;32m   2980\u001b[0m jc \u001b[38;5;241m=\u001b[39m \u001b[38;5;28mself\u001b[39m\u001b[38;5;241m.\u001b[39m_jdf\u001b[38;5;241m.\u001b[39mapply(name)\n\u001b[1;32m   2981\u001b[0m \u001b[38;5;28;01mreturn\u001b[39;00m Column(jc)\n",
      "\u001b[0;31mAttributeError\u001b[0m: 'DataFrame' object has no attribute 'value'"
     ]
    }
   ],
   "source": [
    "# Split the lines using whitespace as the delimiter\n",
    "df = df.withColumn(\"columns\", split(df.value, \"\\s+\"))"
   ]
  },
  {
   "cell_type": "code",
   "execution_count": null,
   "id": "96120431",
   "metadata": {},
   "outputs": [],
   "source": [
    "# Extract the values from the split columns\n",
    "df = df.selectExpr(\"columns[0] as VSS_110\", \"columns[1] as Reporting_For\", \"columns[2] as Settlement_Currency\")"
   ]
  },
  {
   "cell_type": "code",
   "execution_count": null,
   "id": "7e514426",
   "metadata": {},
   "outputs": [],
   "source": [
    "# Get the first value of VSS-110\n",
    "first_vss_110 = df.select(first(col(\"VSS_110\"))).collect()[0][0]"
   ]
  },
  {
   "cell_type": "code",
   "execution_count": null,
   "id": "a269f934",
   "metadata": {},
   "outputs": [],
   "source": [
    "# Get the first value of VSS-110\n",
    "first_vss_110 = df.select(first(col(\"VSS_110\"))).collect()[0][0]"
   ]
  },
  {
   "cell_type": "code",
   "execution_count": null,
   "id": "3ef79239",
   "metadata": {},
   "outputs": [],
   "source": [
    "# Filter the DataFrame to the first 10 VSS-110 values\n",
    "filtered_df = df.filter(df[\"VSS_110\"].isNotNull()).limit(10)"
   ]
  },
  {
   "cell_type": "code",
   "execution_count": null,
   "id": "de247299",
   "metadata": {},
   "outputs": [],
   "source": [
    "# Calculate the count for Total Acquirer and Total Issuer\n",
    "count_total_acquirer = filtered_df.agg({\"Total_Acquirer\": \"sum\"}).collect()[0][0]\n",
    "count_total_issuer = filtered_df.agg({\"Total_Issuer\": \"sum\"}).collect()[0][0]"
   ]
  },
  {
   "cell_type": "code",
   "execution_count": null,
   "id": "ef087f72",
   "metadata": {},
   "outputs": [
    {
     "name": "stderr",
     "output_type": "stream",
     "text": [
      "23/07/04 14:11:41 WARN GarbageCollectionMetrics: To enable non-built-in garbage collector(s) List(G1 Concurrent GC), users should configure it(them) to spark.eventLog.gcMetrics.youngGenerationGarbageCollectors or spark.eventLog.gcMetrics.oldGenerationGarbageCollectors\n"
     ]
    }
   ],
   "source": [
    "# Calculate the Net settlement\n",
    "net_settlement = filtered_df.agg({\"Net Settlement Amount\": \"sum\"}).collect()[0][0]"
   ]
  },
  {
   "cell_type": "code",
   "execution_count": null,
   "id": "62f9f0ae",
   "metadata": {},
   "outputs": [],
   "source": []
  },
  {
   "cell_type": "code",
   "execution_count": null,
   "id": "94769a78",
   "metadata": {},
   "outputs": [],
   "source": []
  },
  {
   "cell_type": "code",
   "execution_count": null,
   "id": "cfcb48bf",
   "metadata": {},
   "outputs": [],
   "source": []
  },
  {
   "cell_type": "code",
   "execution_count": null,
   "id": "d7008e8e",
   "metadata": {},
   "outputs": [],
   "source": []
  }
 ],
 "metadata": {
  "kernelspec": {
   "display_name": "Python 3 (ipykernel)",
   "language": "python",
   "name": "python3"
  },
  "language_info": {
   "codemirror_mode": {
    "name": "ipython",
    "version": 3
   },
   "file_extension": ".py",
   "mimetype": "text/x-python",
   "name": "python",
   "nbconvert_exporter": "python",
   "pygments_lexer": "ipython3",
   "version": "3.10.9"
  }
 },
 "nbformat": 4,
 "nbformat_minor": 5
}
